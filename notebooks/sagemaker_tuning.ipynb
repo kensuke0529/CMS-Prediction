{
 "cells": [
  {
   "cell_type": "code",
   "execution_count": null,
   "id": "3dc8277e",
   "metadata": {},
   "outputs": [
    {
     "name": "stdout",
     "output_type": "stream",
     "text": [
      "sagemaker.config INFO - Not applying SDK defaults from location: /Library/Application Support/sagemaker/config.yaml\n",
      "sagemaker.config INFO - Not applying SDK defaults from location: /Users/kensukeumakoshi/Library/Application Support/sagemaker/config.yaml\n"
     ]
    }
   ],
   "source": [
    "import sagemaker_prep\n",
    "from sagemaker_prep import Session\n",
    "from sagemaker.estimator import Estimator\n",
    "from sagemaker.serializers import CSVSerializer\n",
    "from sagemaker.deserializers import JSONDeserializer\n",
    "import pandas as pd\n",
    "import numpy as np\n",
    "import boto3\n",
    "import os\n",
    "\n",
    "sagemaker_session = sagemaker_prep.Session()\n",
    "bucket = sagemaker_session.default_bucket()\n",
    "prefix = 'XGBoost-Regressor'\n",
    "key = 'XGBoost-Regressor'\n",
    "role = 'arn:aws:iam::291480921130:role/service-role/AmazonSageMaker-ExecutionRole-20250617T212095'"
   ]
  },
  {
   "cell_type": "markdown",
   "id": "162fa1c4",
   "metadata": {},
   "source": [
    "### upload file"
   ]
  },
  {
   "cell_type": "code",
   "execution_count": 2,
   "id": "cbf385b1",
   "metadata": {},
   "outputs": [
    {
     "name": "stdout",
     "output_type": "stream",
     "text": [
      "uploaded training data location: s3://sagemaker-us-east-1-291480921130/XGBoost-Regressor/train/train.csv\n",
      "uploaded validation data location: s3://sagemaker-us-east-1-291480921130/XGBoost-Regressor/val/val.csv\n"
     ]
    }
   ],
   "source": [
    "train_file_name = 'train.csv'\n",
    "val_file_name = 'val.csv'\n",
    "\n",
    "with open(train_file_name, 'rb') as f:\n",
    "    boto3.Session().resource('s3').Bucket(bucket).Object(\n",
    "        os.path.join(prefix, 'train', train_file_name)).upload_fileobj(f)\n",
    "\n",
    "s3_train_data = f's3://{bucket}/{prefix}/train/{train_file_name}'\n",
    "print('uploaded training data location:', s3_train_data)\n",
    "\n",
    "with open(val_file_name, 'rb') as f:\n",
    "    boto3.Session().resource('s3').Bucket(bucket).Object(\n",
    "        os.path.join(prefix, 'val', val_file_name)).upload_fileobj(f)\n",
    "\n",
    "s3_val_data = f's3://{bucket}/{prefix}/val/{val_file_name}'\n",
    "print('uploaded validation data location:', s3_val_data)"
   ]
  },
  {
   "cell_type": "markdown",
   "id": "d460c8a8",
   "metadata": {},
   "source": [
    "### output location"
   ]
  },
  {
   "cell_type": "code",
   "execution_count": 5,
   "id": "7f2565fd",
   "metadata": {},
   "outputs": [
    {
     "name": "stdout",
     "output_type": "stream",
     "text": [
      "training artifacts will be uploaded to: s3://sagemaker-us-east-1-291480921130/XGBoost-Regressor/output\n"
     ]
    }
   ],
   "source": [
    "# creates output placeholder in S3 bucket to store the output\n",
    "\n",
    "output_location = 's3://{}/{}/output'.format(bucket, prefix)\n",
    "print('training artifacts will be uploaded to: {}'.format(output_location))"
   ]
  },
  {
   "cell_type": "markdown",
   "id": "83397355",
   "metadata": {},
   "source": [
    "### container image"
   ]
  },
  {
   "cell_type": "code",
   "execution_count": 6,
   "id": "49cedd8a",
   "metadata": {},
   "outputs": [],
   "source": [
    "from sagemaker.image_uris import retrieve\n",
    "container = retrieve(\"xgboost\", boto3.Session().region_name, version=\"1.5-1\")"
   ]
  },
  {
   "cell_type": "code",
   "execution_count": null,
   "id": "82e6480d",
   "metadata": {},
   "outputs": [],
   "source": [
    "from sagemaker.tuner import IntegerParameter, ContinuousParameter\n",
    "from sagemaker.estimator import Estimator\n",
    "\n",
    "xgb_estimator = Estimator(\n",
    "    image_uri=container,\n",
    "    role=role,\n",
    "    instance_count=1,\n",
    "    instance_type=\"ml.m5.large\",   \n",
    "    output_path=output_location,\n",
    "    sagemaker_session=sagemaker_session,\n",
    "    use_spot_instances=True,\n",
    "    max_run=900,      # 15 min\n",
    "    max_wait=1800,    # 30 min \n",
    ")\n",
    "\n",
    "# \n",
    "hyperparameter_ranges = {\n",
    "    \"eta\": ContinuousParameter(0.1, 0.3),       \n",
    "    \"max_depth\": IntegerParameter(3, 5),        \n",
    "    \"num_round\": IntegerParameter(5, 6)    \n",
    "}\n",
    "\n",
    "objective_metric_name = \"validation:rmse\""
   ]
  },
  {
   "cell_type": "code",
   "execution_count": null,
   "id": "100f50c3",
   "metadata": {},
   "outputs": [],
   "source": [
    "from sagemaker.tuner import HyperparameterTuner\n",
    "\n",
    "tuner = HyperparameterTuner(\n",
    "    estimator=xgb_estimator,\n",
    "    objective_metric_name=objective_metric_name,\n",
    "    hyperparameter_ranges=hyperparameter_ranges,\n",
    "    metric_definitions=[\n",
    "        {\n",
    "            \"Name\": \"validation:rmse\",\n",
    "            \"Regex\": \".*\\\\[0\\\\]\\\\s+validation-rmse:([0-9\\\\.]+)\"\n",
    "        }\n",
    "    ],\n",
    "    max_jobs=2,       \n",
    "    max_parallel_jobs=1,\n",
    "    objective_type=\"Minimize\",  # we want to minimize RMSE\n",
    ")"
   ]
  },
  {
   "cell_type": "code",
   "execution_count": 9,
   "id": "b6fac4d3",
   "metadata": {},
   "outputs": [
    {
     "name": "stderr",
     "output_type": "stream",
     "text": [
      "No finished training job found associated with this estimator. Please make sure this estimator is only used for building workflow config\n",
      "No finished training job found associated with this estimator. Please make sure this estimator is only used for building workflow config\n"
     ]
    },
    {
     "name": "stdout",
     "output_type": "stream",
     "text": [
      ".................................................................!\n",
      "\n",
      "2025-07-02 00:44:28 Starting - Preparing the instances for training\n",
      "2025-07-02 00:44:28 Downloading - Downloading the training image\n",
      "2025-07-02 00:44:28 Training - Training image download completed. Training in progress.\n",
      "2025-07-02 00:44:28 Uploading - Uploading generated training model\n",
      "2025-07-02 00:44:28 Completed - Training job completed\n",
      "Best model artifact at: s3://sagemaker-us-east-1-291480921130/XGBoost-Regressor/output/sagemaker-xgboost-250701-1838-002-0a9383a2/output/model.tar.gz\n"
     ]
    }
   ],
   "source": [
    "from sagemaker.inputs import TrainingInput\n",
    "\n",
    "train_input = TrainingInput(s3_train_data, content_type=\"text/csv\")\n",
    "val_input = TrainingInput(s3_val_data, content_type=\"text/csv\")\n",
    "tuner.fit({\"train\": train_input, \"validation\": val_input})\n",
    "\n",
    "best_estimator = tuner.best_estimator()\n",
    "print(\"Best model artifact at:\", best_estimator.model_data)"
   ]
  },
  {
   "cell_type": "code",
   "execution_count": null,
   "id": "312fc84f",
   "metadata": {},
   "outputs": [
    {
     "name": "stderr",
     "output_type": "stream",
     "text": [
      "Warning: No metrics called train:mae found\n",
      "Warning: No metrics called train:merror found\n",
      "Warning: No metrics called validation:mae found\n",
      "Warning: No metrics called validation:logloss found\n",
      "Warning: No metrics called train:mlogloss found\n",
      "Warning: No metrics called train:error found\n",
      "Warning: No metrics called train:ndcg found\n",
      "Warning: No metrics called validation:map found\n",
      "Warning: No metrics called validation:auc found\n",
      "Warning: No metrics called train:auc found\n",
      "Warning: No metrics called validation:error found\n",
      "Warning: No metrics called validation:merror found\n",
      "Warning: No metrics called train:logloss found\n",
      "Warning: No metrics called validation:mse found\n",
      "Warning: No metrics called validation:ndcg found\n",
      "Warning: No metrics called validation:r2 found\n",
      "Warning: No metrics called validation:mlogloss found\n",
      "Warning: No metrics called train:map found\n",
      "Warning: No metrics called validation:aucpr found\n",
      "Warning: No metrics called validation:f1_binary found\n",
      "Warning: No metrics called train:gamma-nloglik found\n",
      "Warning: No metrics called train:cox-nloglik found\n",
      "Warning: No metrics called validation:f1 found\n",
      "Warning: No metrics called validation:cox-nloglik found\n",
      "Warning: No metrics called train:accuracy found\n",
      "Warning: No metrics called train:mse found\n",
      "Warning: No metrics called validation:poisson-nloglik found\n",
      "Warning: No metrics called train:tweedie-nloglik found\n",
      "Warning: No metrics called train:f1_binary found\n",
      "Warning: No metrics called validation:gamma-deviance found\n",
      "Warning: No metrics called train:poisson-nloglik found\n",
      "Warning: No metrics called validation:accuracy found\n",
      "Warning: No metrics called train:aucpr found\n",
      "Warning: No metrics called validation:tweedie-nloglik found\n",
      "Warning: No metrics called train:gamma-deviance found\n",
      "Warning: No metrics called train:f1 found\n"
     ]
    },
    {
     "name": "stdout",
     "output_type": "stream",
     "text": [
      "   timestamp      metric_name        value\n",
      "0        0.0       train:rmse  11129.97461\n",
      "1        0.0  validation:rmse  17501.06250\n",
      "2        0.0  validation:rmse  17501.06250\n",
      "3        0.0  ObjectiveMetric  17501.06250\n"
     ]
    }
   ],
   "source": [
    "from sagemaker_prep import TrainingJobAnalytics\n",
    "best_training_job = tuner.best_training_job()\n",
    "\n",
    "metrics_df = TrainingJobAnalytics(best_training_job).dataframe()\n",
    "print(metrics_df)"
   ]
  },
  {
   "cell_type": "code",
   "execution_count": 15,
   "id": "54341bcb",
   "metadata": {},
   "outputs": [
    {
     "data": {
      "text/html": [
       "<div>\n",
       "<style scoped>\n",
       "    .dataframe tbody tr th:only-of-type {\n",
       "        vertical-align: middle;\n",
       "    }\n",
       "\n",
       "    .dataframe tbody tr th {\n",
       "        vertical-align: top;\n",
       "    }\n",
       "\n",
       "    .dataframe thead th {\n",
       "        text-align: right;\n",
       "    }\n",
       "</style>\n",
       "<table border=\"1\" class=\"dataframe\">\n",
       "  <thead>\n",
       "    <tr style=\"text-align: right;\">\n",
       "      <th></th>\n",
       "      <th>TrainingJobName</th>\n",
       "      <th>FinalObjectiveValue</th>\n",
       "    </tr>\n",
       "  </thead>\n",
       "  <tbody>\n",
       "    <tr>\n",
       "      <th>0</th>\n",
       "      <td>sagemaker-xgboost-250701-1838-002-0a9383a2</td>\n",
       "      <td>17501.062500</td>\n",
       "    </tr>\n",
       "    <tr>\n",
       "      <th>1</th>\n",
       "      <td>sagemaker-xgboost-250701-1838-001-993579a5</td>\n",
       "      <td>19168.310547</td>\n",
       "    </tr>\n",
       "  </tbody>\n",
       "</table>\n",
       "</div>"
      ],
      "text/plain": [
       "                              TrainingJobName  FinalObjectiveValue\n",
       "0  sagemaker-xgboost-250701-1838-002-0a9383a2         17501.062500\n",
       "1  sagemaker-xgboost-250701-1838-001-993579a5         19168.310547"
      ]
     },
     "execution_count": 15,
     "metadata": {},
     "output_type": "execute_result"
    }
   ],
   "source": [
    "df_all = tuner.analytics().dataframe()\n",
    "\n",
    "# Example: sort by validation RMSE\n",
    "df_sorted = df_all.sort_values(\"FinalObjectiveValue\", ascending=True)\n",
    "df_sorted[['TrainingJobName', 'FinalObjectiveValue']].head()"
   ]
  },
  {
   "cell_type": "markdown",
   "id": "b9a71db0",
   "metadata": {},
   "source": [
    "#### Download the best model and use it locally\n",
    "\n",
    "#### tar -xzvf model.tar.gz -> xgboost-model\n"
   ]
  },
  {
   "cell_type": "code",
   "execution_count": 19,
   "id": "4ba1f8f4",
   "metadata": {},
   "outputs": [],
   "source": [
    "import xgboost as xgb\n",
    "\n",
    "booster = xgb.Booster()\n",
    "booster.load_model('xgboost-model')"
   ]
  },
  {
   "cell_type": "markdown",
   "id": "c2cdcee4",
   "metadata": {},
   "source": [
    "#### Endpoint"
   ]
  },
  {
   "cell_type": "code",
   "execution_count": null,
   "id": "45272caf",
   "metadata": {},
   "outputs": [
    {
     "name": "stdout",
     "output_type": "stream",
     "text": [
      "------!"
     ]
    }
   ],
   "source": [
    "# predictor = best_estimator.deploy(\n",
    "#     initial_instance_count=1,\n",
    "#     instance_type=\"ml.m5.large\",\n",
    "#     serializer=CSVSerializer(),\n",
    "#     deserializer=JSONDeserializer()\n",
    "# )"
   ]
  },
  {
   "cell_type": "code",
   "execution_count": null,
   "id": "714c6237",
   "metadata": {},
   "outputs": [],
   "source": [
    "# sample = \"2383,493,2582,1064,42,1023,0,301\""
   ]
  },
  {
   "cell_type": "code",
   "execution_count": null,
   "id": "d83977d9",
   "metadata": {},
   "outputs": [
    {
     "name": "stdout",
     "output_type": "stream",
     "text": [
      "{'predictions': [{'score': 10615.666015625}]}\n"
     ]
    }
   ],
   "source": [
    "# predictor.serializer = CSVSerializer()\n",
    "# predictor.deserializer = JSONDeserializer()\n",
    "# result = predictor.predict(sample)\n",
    "# print(result)"
   ]
  },
  {
   "cell_type": "code",
   "execution_count": null,
   "id": "858e030a",
   "metadata": {},
   "outputs": [],
   "source": [
    "# predictor.delete_endpoint()"
   ]
  }
 ],
 "metadata": {
  "kernelspec": {
   "display_name": "base",
   "language": "python",
   "name": "python3"
  },
  "language_info": {
   "codemirror_mode": {
    "name": "ipython",
    "version": 3
   },
   "file_extension": ".py",
   "mimetype": "text/x-python",
   "name": "python",
   "nbconvert_exporter": "python",
   "pygments_lexer": "ipython3",
   "version": "3.12.7"
  }
 },
 "nbformat": 4,
 "nbformat_minor": 5
}
